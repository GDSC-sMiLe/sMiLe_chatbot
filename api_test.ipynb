{
 "cells": [
  {
   "cell_type": "code",
   "execution_count": 2,
   "metadata": {},
   "outputs": [
    {
     "name": "stdout",
     "output_type": "stream",
     "text": [
      "챗봇 응답: Yo! What's good? How's life treating you today?\n"
     ]
    }
   ],
   "source": [
    "import requests\n",
    "\n",
    "# API 엔드포인트 URL\n",
    "url = 'http://localhost:3000/chat'\n",
    "\n",
    "# 보낼 데이터\n",
    "data = {'userInput': 'hi'}\n",
    "\n",
    "# POST 요청 보내기\n",
    "response = requests.post(url, json=data)\n",
    "\n",
    "# 응답 확인\n",
    "if response.status_code == 200:\n",
    "    result = response.json()\n",
    "    print('챗봇 응답:', result['text'])\n",
    "else:\n",
    "    print('오류 발생:', response.status_code)\n"
   ]
  }
 ],
 "metadata": {
  "kernelspec": {
   "display_name": "Python 3",
   "language": "python",
   "name": "python3"
  },
  "language_info": {
   "codemirror_mode": {
    "name": "ipython",
    "version": 3
   },
   "file_extension": ".py",
   "mimetype": "text/x-python",
   "name": "python",
   "nbconvert_exporter": "python",
   "pygments_lexer": "ipython3",
   "version": "3.10.11"
  }
 },
 "nbformat": 4,
 "nbformat_minor": 2
}
