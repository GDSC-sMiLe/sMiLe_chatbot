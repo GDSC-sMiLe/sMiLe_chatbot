{
 "cells": [
  {
   "cell_type": "code",
   "execution_count": 14,
   "metadata": {},
   "outputs": [
    {
     "name": "stdout",
     "output_type": "stream",
     "text": [
      "챗봇 응답: Yo, the weather's got some serious mood swings today. One minute it's all sunshine and daisies, next minute it's a full-on downpour. Keep your umbrella handy, fam.\n"
     ]
    }
   ],
   "source": [
    "import requests\n",
    "\n",
    "# API 엔드포인트 URL\n",
    "url = 'http://localhost:3000/chat'\n",
    "\n",
    "# 보낼 데이터\n",
    "data = {'userInput': \"how's the weather today?\"}\n",
    "\n",
    "# POST 요청 보내기\n",
    "response = requests.post(url, json=data)\n",
    "\n",
    "# 응답 확인\n",
    "if response.status_code == 200:\n",
    "    result = response.json()\n",
    "    print('챗봇 응답:', result['response'])\n",
    "else:\n",
    "    print('오류 발생:', response.status_code)\n"
   ]
  },
  {
   "cell_type": "code",
   "execution_count": null,
   "metadata": {},
   "outputs": [],
   "source": []
  }
 ],
 "metadata": {
  "kernelspec": {
   "display_name": "Python 3 (ipykernel)",
   "language": "python",
   "name": "python3"
  },
  "language_info": {
   "codemirror_mode": {
    "name": "ipython",
    "version": 3
   },
   "file_extension": ".py",
   "mimetype": "text/x-python",
   "name": "python",
   "nbconvert_exporter": "python",
   "pygments_lexer": "ipython3",
   "version": "3.9.12"
  }
 },
 "nbformat": 4,
 "nbformat_minor": 2
}
